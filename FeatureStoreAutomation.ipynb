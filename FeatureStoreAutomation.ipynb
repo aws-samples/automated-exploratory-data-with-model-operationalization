{
 "cells": [
  {
   "cell_type": "markdown",
   "id": "49ba50a4-27e0-4590-84d5-2501e802a299",
   "metadata": {},
   "source": [
    "## Sagemaker Pipeline for Feature Store Processing\n",
    "\n",
    "This notebook shows you how to create a SageMaker Pipeline to automate feature transformations and ingestion into Feature Store, triggered off of new data files that are uploaded to S3.\n",
    "\n",
    "\n",
    "This notebook creates a SageMaker Pipeline which:\n",
    "\n",
    "    Performs the transformations contained in a Data Wrangler .flow file stored in Amazon S3 using a SageMaker Processing Job Stores the transformed features in the Amazon SageMaker Feature Store\n"
   ]
  },
  {
   "cell_type": "code",
   "execution_count": null,
   "id": "f6a360c1-fceb-4e17-a1e2-733274abf4eb",
   "metadata": {},
   "outputs": [],
   "source": [
    "# SageMaker Python SDK version 2.x is required\n",
    "import sagemaker\n",
    "import subprocess\n",
    "import sys\n",
    "import os\n",
    "import uuid\n",
    "import json\n",
    "import time\n",
    "import boto3\n",
    "from zipfile import ZipFile\n",
    "import inspect"
   ]
  },
  {
   "cell_type": "markdown",
   "id": "9a18acd0-96e7-45ee-beed-edc0574810b6",
   "metadata": {},
   "source": [
    "First, we need to copy these variables from the Data Wrangler generated output from the previous step: "
   ]
  },
  {
   "cell_type": "code",
   "execution_count": null,
   "id": "1f60ed3b-c4a7-477a-b08e-cfba3541144b",
   "metadata": {},
   "outputs": [],
   "source": [
    "feature_group_name = \"<FEATURE GROUP NAME>\"\n",
    "output_name = \"<OUTPUT NAME>\"\n",
    "flow_uri='<FLOW URI>'"
   ]
  },
  {
   "cell_type": "code",
   "execution_count": null,
   "id": "67b7f231-3e86-40b6-9314-46dfb24357bb",
   "metadata": {},
   "outputs": [],
   "source": [
    "sess = sagemaker.Session()\n",
    "bucket = sess.default_bucket()\n",
    "sm_client = boto3.client('sagemaker')\n",
    "iam_role = sagemaker.get_execution_role()\n",
    "region = sess.boto_region_name"
   ]
  },
  {
   "cell_type": "markdown",
   "id": "4af3592d-b6c4-4c7e-b0ea-d31cc9e5bba6",
   "metadata": {},
   "source": [
    "## Create a SageMaker Pipeline from the Data Wrangler Flow\n",
    "\n",
    "The transformations we defined in Data Wrangler are encapsulated in a .flow file. We will parameterize our SageMaker pipeline with the S3 URI of a new input flow file we will create on the fly once new data is made available in S3. "
   ]
  },
  {
   "cell_type": "code",
   "execution_count": null,
   "id": "45d389ef-008d-4ac3-a9d1-53741c3a914e",
   "metadata": {},
   "outputs": [],
   "source": [
    "from sagemaker.workflow.parameters import (\n",
    "    ParameterInteger,\n",
    "    ParameterString,\n",
    ")\n",
    "\n",
    "processing_instance_count = ParameterInteger(\n",
    "    name=\"ProcessingInstanceCount\",\n",
    "    default_value=1\n",
    ")\n",
    "processing_instance_type = ParameterString(\n",
    "    name=\"ProcessingInstanceType\",\n",
    "    default_value=\"ml.m5.4xlarge\"\n",
    ")\n",
    "\n",
    "input_flow= ParameterString(\n",
    "    name='InputFlow',\n",
    "    default_value='s3://placeholder-bucket/placeholder.flow'\n",
    ")"
   ]
  },
  {
   "cell_type": "code",
   "execution_count": null,
   "id": "bb2c67bb-6503-4c08-877a-ab6249107c60",
   "metadata": {},
   "outputs": [],
   "source": [
    "def get_container(region):\n",
    "    registries = {\n",
    "          \"af-south-1\": \"143210264188\",\n",
    "          \"ap-east-1\": \"707077482487\",\n",
    "          \"ap-northeast-1\": \"649008135260\",\n",
    "          \"ap-northeast-2\": \"131546521161\",\n",
    "          \"ap-south-1\": \"089933028263\",\n",
    "          \"ap-southeast-1\": \"119527597002\",\n",
    "          \"ap-southeast-2\": \"422173101802\",\n",
    "          \"ca-central-1\": \"557239378090\",\n",
    "          \"eu-central-1\": \"024640144536\",\n",
    "          \"eu-north-1\": \"054986407534\",\n",
    "          \"eu-south-1\": \"488287956546\",\n",
    "          \"eu-west-1\": \"245179582081\",\n",
    "          \"eu-west-2\": \"894491911112\",\n",
    "          \"eu-west-3\": \"807237891255\",\n",
    "          \"me-south-1\": \"376037874950\",\n",
    "          \"sa-east-1\": \"424196993095\",\n",
    "          \"us-east-1\": \"663277389841\",\n",
    "          \"us-east-2\": \"415577184552\",\n",
    "          \"us-west-1\": \"926135532090\",\n",
    "          \"us-west-2\": \"174368400705\",\n",
    "          \"cn-north-1\": \"245909111842\",\n",
    "          \"cn-northwest-1\": \"249157047649\"\n",
    "        }\n",
    "    \n",
    "    return (registries[region])"
   ]
  },
  {
   "cell_type": "code",
   "execution_count": null,
   "id": "6de57be9-2ac4-4bd7-9a73-8fde84745baa",
   "metadata": {},
   "outputs": [],
   "source": [
    "# Data Wrangler Container URL. \n",
    "container_reg = get_container(region)\n",
    "\n",
    "container_uri = container_reg + \".dkr.ecr.\" + region + \".amazonaws.com/sagemaker-data-wrangler-container:1.x\"\n",
    "print(container_uri)\n",
    "\n",
    "# Pinned Data Wrangler Container URL. \n",
    "container_uri_pinned = container_reg + \"dkr.ecr.\" + region + \".amazonaws.com/sagemaker-data-wrangler-container:1.20.1\""
   ]
  },
  {
   "cell_type": "code",
   "execution_count": null,
   "id": "5abcb653-b10c-41a3-9ec7-3ba5b13ea19d",
   "metadata": {},
   "outputs": [],
   "source": [
    "from sagemaker.processing import Processor\n",
    "\n",
    "\n",
    "processor = Processor(\n",
    "    role=iam_role,\n",
    "    image_uri=container_uri,\n",
    "    instance_count=processing_instance_count,\n",
    "    instance_type=processing_instance_type\n",
    ")"
   ]
  },
  {
   "cell_type": "code",
   "execution_count": null,
   "id": "98b864b3-41ea-4bfc-b4d8-8f60d9f88e6a",
   "metadata": {},
   "outputs": [],
   "source": [
    "from sagemaker.processing import FeatureStoreOutput\n",
    "from sagemaker.processing import ProcessingInput, ProcessingOutput\n",
    "from sagemaker.workflow.steps import ProcessingStep\n",
    "    \n",
    "\n",
    "step_process = ProcessingStep(\n",
    "    name=\"ReadmissionHealthETLFeatureStore\",\n",
    "    processor=processor,\n",
    "    inputs=[\n",
    "        ProcessingInput(input_name='flow', \n",
    "                        destination='/opt/ml/processing/flow',\n",
    "                        source=input_flow,\n",
    "                        s3_data_type= 'S3Prefix',\n",
    "                        s3_input_mode= 'File'\n",
    "                       )\n",
    "    ],\n",
    "    outputs=[\n",
    "        ProcessingOutput(\n",
    "            output_name=output_name,\n",
    "            app_managed=True, \n",
    "            feature_store_output=FeatureStoreOutput(feature_group_name=feature_group_name))\n",
    "    ]\n",
    ")"
   ]
  },
  {
   "cell_type": "code",
   "execution_count": null,
   "id": "ee5490e6-5d78-4a57-b75f-7562b0c421e9",
   "metadata": {},
   "outputs": [],
   "source": [
    "from sagemaker.workflow.pipeline import Pipeline\n",
    "\n",
    "pipeline_name=f\"healthcare-etl-pipeline-{time.strftime('%d-%H-%M-%S', time.gmtime())}\"\n",
    "\n",
    "pipeline = Pipeline(\n",
    "    name=pipeline_name,\n",
    "    parameters=[\n",
    "        processing_instance_type, \n",
    "        processing_instance_count,\n",
    "        input_flow\n",
    "    ],\n",
    "    steps=[step_process],\n",
    "    sagemaker_session=sess\n",
    "    \n",
    ")"
   ]
  },
  {
   "cell_type": "code",
   "execution_count": null,
   "id": "96568b81-d374-4601-a141-1f2fc2a5531a",
   "metadata": {
    "tags": []
   },
   "outputs": [],
   "source": [
    "pipeline.upsert(iam_role)"
   ]
  }
 ],
 "metadata": {
  "instance_type": "ml.t3.medium",
  "kernelspec": {
   "display_name": "Python 3 (Data Science)",
   "language": "python",
   "name": "python3__SAGEMAKER_INTERNAL__arn:aws:sagemaker:us-east-2:429704687514:image/datascience-1.0"
  },
  "language_info": {
   "codemirror_mode": {
    "name": "ipython",
    "version": 3
   },
   "file_extension": ".py",
   "mimetype": "text/x-python",
   "name": "python",
   "nbconvert_exporter": "python",
   "pygments_lexer": "ipython3",
   "version": "3.7.10"
  }
 },
 "nbformat": 4,
 "nbformat_minor": 5
}
